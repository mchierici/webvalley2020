{
 "cells": [
  {
   "cell_type": "markdown",
   "metadata": {
    "colab_type": "text",
    "id": "TJfNUgelLKKI"
   },
   "source": [
    "# <center>Machine learning from scratch - Part II</center>\n",
    "## <center>WebValley ReImagined 2020</center>\n",
    "### <center>Marco Chierici</center>\n",
    "#### <center>FBK/MPBA</center>"
   ]
  },
  {
   "cell_type": "markdown",
   "metadata": {
    "colab_type": "text",
    "id": "fuVtNnbq1o3z"
   },
   "source": [
    "In this handout we will go through basic concepts of machine learning using Python and scikit-learn on a real-world dataset of biological relevance [Zhang et al, _Genome Biology_ , 2015]."
   ]
  },
  {
   "cell_type": "markdown",
   "metadata": {},
   "source": [
    "# Neuroblastoma dataset"
   ]
  },
  {
   "cell_type": "markdown",
   "metadata": {
    "colab_type": "text",
    "id": "n012d52Z1x2_"
   },
   "source": [
    "In this section, we will focus on the SEQC Neuroblastoma dataset, specifically on **a subset of 272 samples (136 training, 136 test)**, aiming at predicting an **extreme disease outcome** (favorable vs unfavorable samples: see [main paper](https://www.ncbi.nlm.nih.gov/pubmed/26109056))."
   ]
  },
  {
   "cell_type": "markdown",
   "metadata": {},
   "source": [
    "<img src=\"images/zhang.png\" width=\"65%\" />"
   ]
  },
  {
   "cell_type": "markdown",
   "metadata": {},
   "source": [
    "<img src=\"images/zhang_tab2.png\" width=\"95%\" />"
   ]
  },
  {
   "cell_type": "markdown",
   "metadata": {
    "colab_type": "text",
    "id": "nhboH88jk3Wa"
   },
   "source": [
    "The data was preprocessed a bit to facilitate the progress of the tutorial."
   ]
  },
  {
   "cell_type": "markdown",
   "metadata": {
    "colab_type": "text",
    "id": "NXauQAQK16-V"
   },
   "source": [
    "Let's start by loading a few modules that we'll be using later:"
   ]
  },
  {
   "cell_type": "code",
   "execution_count": 1,
   "metadata": {
    "colab": {},
    "colab_type": "code",
    "id": "ww5yKJJpk3Wc"
   },
   "outputs": [],
   "source": [
    "import numpy as np\n",
    "import pylab as plt ## for plotting\n",
    "import pandas as pd ## for reading text files and manipulating data frames\n",
    "from sklearn import neighbors ## kNN classifier\n",
    "from pathlib import Path ## for creating paths in a neat way\n",
    "np.random.seed(42) ## set random seed just in case"
   ]
  },
  {
   "cell_type": "markdown",
   "metadata": {
    "colab_type": "text",
    "id": "X1JAqMhok3Wf"
   },
   "source": [
    "Define files to read:"
   ]
  },
  {
   "cell_type": "code",
   "execution_count": 2,
   "metadata": {
    "colab": {},
    "colab_type": "code",
    "id": "VjZyyr-EoCQw"
   },
   "outputs": [],
   "source": [
    "##  for convenience, define the data directory as a variable\n",
    "DATA_DIR = Path(\"data\")"
   ]
  },
  {
   "cell_type": "code",
   "execution_count": 3,
   "metadata": {
    "colab": {},
    "colab_type": "code",
    "id": "z35eGqzck3Wg"
   },
   "outputs": [],
   "source": [
    "DATA_TR = DATA_DIR / \"MAV-G_272_tr.txt\"\n",
    "DATA_TS = DATA_DIR / \"MAV-G_272_ts.txt\"\n",
    "LABS_TR = DATA_DIR / \"labels_tr.txt\"\n",
    "LABS_TS = DATA_DIR / \"labels_ts.txt\""
   ]
  },
  {
   "cell_type": "code",
   "execution_count": 4,
   "metadata": {},
   "outputs": [
    {
     "data": {
      "text/plain": [
       "PosixPath('data/labels_ts.txt')"
      ]
     },
     "execution_count": 4,
     "metadata": {},
     "output_type": "execute_result"
    }
   ],
   "source": [
    "LABS_TS"
   ]
  },
  {
   "cell_type": "markdown",
   "metadata": {},
   "source": [
    "_Note:_ from now on we will use the \"tr\" suffix to denote the training set, and \"ts\" for the test set."
   ]
  },
  {
   "cell_type": "markdown",
   "metadata": {
    "colab_type": "text",
    "id": "QywnF5Rek3Wj"
   },
   "source": [
    "Read the files in as _pandas dataframes_ (they are conceptually like R data frames):"
   ]
  },
  {
   "cell_type": "code",
   "execution_count": 5,
   "metadata": {
    "colab": {
     "base_uri": "https://localhost:8080/",
     "height": 864
    },
    "colab_type": "code",
    "executionInfo": {
     "elapsed": 1345,
     "status": "error",
     "timestamp": 1554388310330,
     "user": {
      "displayName": "Marco Chierici",
      "photoUrl": "https://lh6.googleusercontent.com/-1LjDBMGAnW8/AAAAAAAAAAI/AAAAAAAACB0/ScmrJqjZC-4/s64/photo.jpg",
      "userId": "06871654247545486268"
     },
     "user_tz": -120
    },
    "id": "cYnTRFVyk3Wk",
    "outputId": "a91effd6-a06f-42b9-8911-0ee006aaa08a"
   },
   "outputs": [],
   "source": [
    "data_tr = pd.read_csv(DATA_TR, sep=\"\\t\")\n",
    "data_ts = pd.read_csv(DATA_TS, sep=\"\\t\")"
   ]
  },
  {
   "cell_type": "markdown",
   "metadata": {
    "colab_type": "text",
    "id": "THEk0UfNqZqZ"
   },
   "source": [
    "The function `read_csv` has a lot more input arguments to deal with different situations.\n",
    "\n",
    "If you want to know more about this or any other Python function, use the `help(function_name)` command or `function_name?`."
   ]
  },
  {
   "cell_type": "markdown",
   "metadata": {
    "colab_type": "text",
    "id": "UnTyIsHRk3Wm"
   },
   "source": [
    "Give a look at what we have here, start with getting the dimensions of what we just uploaded:"
   ]
  },
  {
   "cell_type": "code",
   "execution_count": 6,
   "metadata": {
    "colab": {},
    "colab_type": "code",
    "id": "2iltS1Q-k3Wn",
    "outputId": "ea81462d-8a49-406b-c933-182c49379053"
   },
   "outputs": [
    {
     "data": {
      "text/plain": [
       "(136, 52230)"
      ]
     },
     "execution_count": 6,
     "metadata": {},
     "output_type": "execute_result"
    }
   ],
   "source": [
    "data_tr.shape"
   ]
  },
  {
   "cell_type": "markdown",
   "metadata": {
    "colab_type": "text",
    "id": "_kRnmCcI2Wo4"
   },
   "source": [
    "What's inside?\n",
    "\n",
    "A peek at the first rows reveals that the first column (the dataframe index) contains the sample IDs, and the remaining columns are genes:"
   ]
  },
  {
   "cell_type": "code",
   "execution_count": 7,
   "metadata": {
    "colab": {},
    "colab_type": "code",
    "id": "TVfPwU6-k3Wt",
    "outputId": "884dd460-6c53-4bf4-9c37-f7c7299b37a2"
   },
   "outputs": [
    {
     "data": {
      "text/html": [
       "<div>\n",
       "<style scoped>\n",
       "    .dataframe tbody tr th:only-of-type {\n",
       "        vertical-align: middle;\n",
       "    }\n",
       "\n",
       "    .dataframe tbody tr th {\n",
       "        vertical-align: top;\n",
       "    }\n",
       "\n",
       "    .dataframe thead th {\n",
       "        text-align: right;\n",
       "    }\n",
       "</style>\n",
       "<table border=\"1\" class=\"dataframe\">\n",
       "  <thead>\n",
       "    <tr style=\"text-align: right;\">\n",
       "      <th></th>\n",
       "      <th>sampleID</th>\n",
       "      <th>ALB.Gene_AceView</th>\n",
       "      <th>CD24L4.1.Gene_AceView</th>\n",
       "      <th>RPS11.Gene_RefSeq</th>\n",
       "      <th>RPS18.Gene_AceView</th>\n",
       "      <th>C5orf13.Gene_AceView</th>\n",
       "      <th>CCT2.Gene_AceView</th>\n",
       "      <th>COL1A1.Gene_AceView</th>\n",
       "      <th>DDX1.Gene_AceView</th>\n",
       "      <th>EEF1A1.Gene_AceView</th>\n",
       "      <th>...</th>\n",
       "      <th>zawskaw.Gene_AceView</th>\n",
       "      <th>zeedor.Gene_AceView</th>\n",
       "      <th>zergor.Gene_AceView</th>\n",
       "      <th>zorsa.Gene_AceView</th>\n",
       "      <th>zoychabu.Gene_AceView</th>\n",
       "      <th>zoysteeby.Gene_AceView</th>\n",
       "      <th>zudee.Gene_AceView</th>\n",
       "      <th>zureyby.Gene_AceView</th>\n",
       "      <th>zuswoybu.Gene_AceView</th>\n",
       "      <th>zyjee.Gene_AceView</th>\n",
       "    </tr>\n",
       "  </thead>\n",
       "  <tbody>\n",
       "    <tr>\n",
       "      <th>0</th>\n",
       "      <td>SEQC_NB001</td>\n",
       "      <td>9.29</td>\n",
       "      <td>18.82</td>\n",
       "      <td>21.17</td>\n",
       "      <td>20.90</td>\n",
       "      <td>20.02</td>\n",
       "      <td>16.31</td>\n",
       "      <td>18.60</td>\n",
       "      <td>15.73</td>\n",
       "      <td>21.71</td>\n",
       "      <td>...</td>\n",
       "      <td>0.0</td>\n",
       "      <td>0.00</td>\n",
       "      <td>0.0</td>\n",
       "      <td>0.00</td>\n",
       "      <td>0.0</td>\n",
       "      <td>0.0</td>\n",
       "      <td>0.00</td>\n",
       "      <td>0.0</td>\n",
       "      <td>0.0</td>\n",
       "      <td>0.0</td>\n",
       "    </tr>\n",
       "    <tr>\n",
       "      <th>1</th>\n",
       "      <td>SEQC_NB003</td>\n",
       "      <td>9.25</td>\n",
       "      <td>20.25</td>\n",
       "      <td>22.44</td>\n",
       "      <td>22.00</td>\n",
       "      <td>21.05</td>\n",
       "      <td>17.06</td>\n",
       "      <td>19.39</td>\n",
       "      <td>22.84</td>\n",
       "      <td>22.72</td>\n",
       "      <td>...</td>\n",
       "      <td>0.0</td>\n",
       "      <td>5.54</td>\n",
       "      <td>0.0</td>\n",
       "      <td>3.39</td>\n",
       "      <td>0.0</td>\n",
       "      <td>0.0</td>\n",
       "      <td>5.45</td>\n",
       "      <td>0.0</td>\n",
       "      <td>0.0</td>\n",
       "      <td>0.0</td>\n",
       "    </tr>\n",
       "    <tr>\n",
       "      <th>2</th>\n",
       "      <td>SEQC_NB005</td>\n",
       "      <td>8.99</td>\n",
       "      <td>20.09</td>\n",
       "      <td>22.09</td>\n",
       "      <td>21.71</td>\n",
       "      <td>21.65</td>\n",
       "      <td>16.85</td>\n",
       "      <td>23.02</td>\n",
       "      <td>15.79</td>\n",
       "      <td>22.24</td>\n",
       "      <td>...</td>\n",
       "      <td>0.0</td>\n",
       "      <td>0.00</td>\n",
       "      <td>0.0</td>\n",
       "      <td>3.75</td>\n",
       "      <td>0.0</td>\n",
       "      <td>0.0</td>\n",
       "      <td>0.00</td>\n",
       "      <td>0.0</td>\n",
       "      <td>0.0</td>\n",
       "      <td>0.0</td>\n",
       "    </tr>\n",
       "    <tr>\n",
       "      <th>3</th>\n",
       "      <td>SEQC_NB011</td>\n",
       "      <td>7.32</td>\n",
       "      <td>19.82</td>\n",
       "      <td>20.52</td>\n",
       "      <td>20.90</td>\n",
       "      <td>21.58</td>\n",
       "      <td>16.49</td>\n",
       "      <td>18.91</td>\n",
       "      <td>15.45</td>\n",
       "      <td>22.06</td>\n",
       "      <td>...</td>\n",
       "      <td>0.0</td>\n",
       "      <td>0.00</td>\n",
       "      <td>0.0</td>\n",
       "      <td>0.00</td>\n",
       "      <td>0.0</td>\n",
       "      <td>0.0</td>\n",
       "      <td>0.00</td>\n",
       "      <td>0.0</td>\n",
       "      <td>0.0</td>\n",
       "      <td>0.0</td>\n",
       "    </tr>\n",
       "    <tr>\n",
       "      <th>4</th>\n",
       "      <td>SEQC_NB013</td>\n",
       "      <td>10.56</td>\n",
       "      <td>21.19</td>\n",
       "      <td>20.69</td>\n",
       "      <td>21.29</td>\n",
       "      <td>20.28</td>\n",
       "      <td>16.22</td>\n",
       "      <td>17.15</td>\n",
       "      <td>16.01</td>\n",
       "      <td>21.84</td>\n",
       "      <td>...</td>\n",
       "      <td>0.0</td>\n",
       "      <td>0.00</td>\n",
       "      <td>0.0</td>\n",
       "      <td>5.20</td>\n",
       "      <td>0.0</td>\n",
       "      <td>0.0</td>\n",
       "      <td>0.00</td>\n",
       "      <td>0.0</td>\n",
       "      <td>0.0</td>\n",
       "      <td>0.0</td>\n",
       "    </tr>\n",
       "  </tbody>\n",
       "</table>\n",
       "<p>5 rows × 52230 columns</p>\n",
       "</div>"
      ],
      "text/plain": [
       "     sampleID  ALB.Gene_AceView  CD24L4.1.Gene_AceView  RPS11.Gene_RefSeq  \\\n",
       "0  SEQC_NB001              9.29                  18.82              21.17   \n",
       "1  SEQC_NB003              9.25                  20.25              22.44   \n",
       "2  SEQC_NB005              8.99                  20.09              22.09   \n",
       "3  SEQC_NB011              7.32                  19.82              20.52   \n",
       "4  SEQC_NB013             10.56                  21.19              20.69   \n",
       "\n",
       "   RPS18.Gene_AceView  C5orf13.Gene_AceView  CCT2.Gene_AceView  \\\n",
       "0               20.90                 20.02              16.31   \n",
       "1               22.00                 21.05              17.06   \n",
       "2               21.71                 21.65              16.85   \n",
       "3               20.90                 21.58              16.49   \n",
       "4               21.29                 20.28              16.22   \n",
       "\n",
       "   COL1A1.Gene_AceView  DDX1.Gene_AceView  EEF1A1.Gene_AceView  ...  \\\n",
       "0                18.60              15.73                21.71  ...   \n",
       "1                19.39              22.84                22.72  ...   \n",
       "2                23.02              15.79                22.24  ...   \n",
       "3                18.91              15.45                22.06  ...   \n",
       "4                17.15              16.01                21.84  ...   \n",
       "\n",
       "   zawskaw.Gene_AceView  zeedor.Gene_AceView  zergor.Gene_AceView  \\\n",
       "0                   0.0                 0.00                  0.0   \n",
       "1                   0.0                 5.54                  0.0   \n",
       "2                   0.0                 0.00                  0.0   \n",
       "3                   0.0                 0.00                  0.0   \n",
       "4                   0.0                 0.00                  0.0   \n",
       "\n",
       "   zorsa.Gene_AceView  zoychabu.Gene_AceView  zoysteeby.Gene_AceView  \\\n",
       "0                0.00                    0.0                     0.0   \n",
       "1                3.39                    0.0                     0.0   \n",
       "2                3.75                    0.0                     0.0   \n",
       "3                0.00                    0.0                     0.0   \n",
       "4                5.20                    0.0                     0.0   \n",
       "\n",
       "   zudee.Gene_AceView  zureyby.Gene_AceView  zuswoybu.Gene_AceView  \\\n",
       "0                0.00                   0.0                    0.0   \n",
       "1                5.45                   0.0                    0.0   \n",
       "2                0.00                   0.0                    0.0   \n",
       "3                0.00                   0.0                    0.0   \n",
       "4                0.00                   0.0                    0.0   \n",
       "\n",
       "   zyjee.Gene_AceView  \n",
       "0                 0.0  \n",
       "1                 0.0  \n",
       "2                 0.0  \n",
       "3                 0.0  \n",
       "4                 0.0  \n",
       "\n",
       "[5 rows x 52230 columns]"
      ]
     },
     "execution_count": 7,
     "metadata": {},
     "output_type": "execute_result"
    }
   ],
   "source": [
    "data_tr.head()"
   ]
  },
  {
   "cell_type": "markdown",
   "metadata": {
    "colab_type": "text",
    "id": "-Q-p18V3k3Ww"
   },
   "source": [
    "Drop the first column from the train and test expression sets, since it's just the sample IDs (we put them in to be able to check whether samples and labels match, but once we are sure of what we are doing we don't really need them anymore)."
   ]
  },
  {
   "cell_type": "code",
   "execution_count": 8,
   "metadata": {
    "colab": {},
    "colab_type": "code",
    "id": "F1bUOeE4k3Wx"
   },
   "outputs": [],
   "source": [
    "data_tr = data_tr.drop('sampleID', axis=1)\n",
    "data_ts = data_ts.drop('sampleID', axis=1)"
   ]
  },
  {
   "cell_type": "markdown",
   "metadata": {
    "colab_type": "text",
    "id": "WA_GLQAWk3W0"
   },
   "source": [
    "Check what happened"
   ]
  },
  {
   "cell_type": "code",
   "execution_count": 9,
   "metadata": {
    "colab": {},
    "colab_type": "code",
    "id": "QgcQgBVek3W1",
    "outputId": "6cbec2e0-0001-4e03-c040-0bbddd51db5b"
   },
   "outputs": [
    {
     "data": {
      "text/html": [
       "<div>\n",
       "<style scoped>\n",
       "    .dataframe tbody tr th:only-of-type {\n",
       "        vertical-align: middle;\n",
       "    }\n",
       "\n",
       "    .dataframe tbody tr th {\n",
       "        vertical-align: top;\n",
       "    }\n",
       "\n",
       "    .dataframe thead th {\n",
       "        text-align: right;\n",
       "    }\n",
       "</style>\n",
       "<table border=\"1\" class=\"dataframe\">\n",
       "  <thead>\n",
       "    <tr style=\"text-align: right;\">\n",
       "      <th></th>\n",
       "      <th>ALB.Gene_AceView</th>\n",
       "      <th>CD24L4.1.Gene_AceView</th>\n",
       "      <th>RPS11.Gene_RefSeq</th>\n",
       "      <th>RPS18.Gene_AceView</th>\n",
       "      <th>C5orf13.Gene_AceView</th>\n",
       "      <th>CCT2.Gene_AceView</th>\n",
       "      <th>COL1A1.Gene_AceView</th>\n",
       "      <th>DDX1.Gene_AceView</th>\n",
       "      <th>EEF1A1.Gene_AceView</th>\n",
       "      <th>FLT3LG_.Gene_AceView</th>\n",
       "      <th>...</th>\n",
       "      <th>zawskaw.Gene_AceView</th>\n",
       "      <th>zeedor.Gene_AceView</th>\n",
       "      <th>zergor.Gene_AceView</th>\n",
       "      <th>zorsa.Gene_AceView</th>\n",
       "      <th>zoychabu.Gene_AceView</th>\n",
       "      <th>zoysteeby.Gene_AceView</th>\n",
       "      <th>zudee.Gene_AceView</th>\n",
       "      <th>zureyby.Gene_AceView</th>\n",
       "      <th>zuswoybu.Gene_AceView</th>\n",
       "      <th>zyjee.Gene_AceView</th>\n",
       "    </tr>\n",
       "  </thead>\n",
       "  <tbody>\n",
       "    <tr>\n",
       "      <th>0</th>\n",
       "      <td>9.29</td>\n",
       "      <td>18.82</td>\n",
       "      <td>21.17</td>\n",
       "      <td>20.90</td>\n",
       "      <td>20.02</td>\n",
       "      <td>16.31</td>\n",
       "      <td>18.60</td>\n",
       "      <td>15.73</td>\n",
       "      <td>21.71</td>\n",
       "      <td>20.02</td>\n",
       "      <td>...</td>\n",
       "      <td>0.0</td>\n",
       "      <td>0.00</td>\n",
       "      <td>0.0</td>\n",
       "      <td>0.00</td>\n",
       "      <td>0.0</td>\n",
       "      <td>0.0</td>\n",
       "      <td>0.00</td>\n",
       "      <td>0.0</td>\n",
       "      <td>0.0</td>\n",
       "      <td>0.0</td>\n",
       "    </tr>\n",
       "    <tr>\n",
       "      <th>1</th>\n",
       "      <td>9.25</td>\n",
       "      <td>20.25</td>\n",
       "      <td>22.44</td>\n",
       "      <td>22.00</td>\n",
       "      <td>21.05</td>\n",
       "      <td>17.06</td>\n",
       "      <td>19.39</td>\n",
       "      <td>22.84</td>\n",
       "      <td>22.72</td>\n",
       "      <td>21.26</td>\n",
       "      <td>...</td>\n",
       "      <td>0.0</td>\n",
       "      <td>5.54</td>\n",
       "      <td>0.0</td>\n",
       "      <td>3.39</td>\n",
       "      <td>0.0</td>\n",
       "      <td>0.0</td>\n",
       "      <td>5.45</td>\n",
       "      <td>0.0</td>\n",
       "      <td>0.0</td>\n",
       "      <td>0.0</td>\n",
       "    </tr>\n",
       "    <tr>\n",
       "      <th>2</th>\n",
       "      <td>8.99</td>\n",
       "      <td>20.09</td>\n",
       "      <td>22.09</td>\n",
       "      <td>21.71</td>\n",
       "      <td>21.65</td>\n",
       "      <td>16.85</td>\n",
       "      <td>23.02</td>\n",
       "      <td>15.79</td>\n",
       "      <td>22.24</td>\n",
       "      <td>20.75</td>\n",
       "      <td>...</td>\n",
       "      <td>0.0</td>\n",
       "      <td>0.00</td>\n",
       "      <td>0.0</td>\n",
       "      <td>3.75</td>\n",
       "      <td>0.0</td>\n",
       "      <td>0.0</td>\n",
       "      <td>0.00</td>\n",
       "      <td>0.0</td>\n",
       "      <td>0.0</td>\n",
       "      <td>0.0</td>\n",
       "    </tr>\n",
       "    <tr>\n",
       "      <th>3</th>\n",
       "      <td>7.32</td>\n",
       "      <td>19.82</td>\n",
       "      <td>20.52</td>\n",
       "      <td>20.90</td>\n",
       "      <td>21.58</td>\n",
       "      <td>16.49</td>\n",
       "      <td>18.91</td>\n",
       "      <td>15.45</td>\n",
       "      <td>22.06</td>\n",
       "      <td>19.59</td>\n",
       "      <td>...</td>\n",
       "      <td>0.0</td>\n",
       "      <td>0.00</td>\n",
       "      <td>0.0</td>\n",
       "      <td>0.00</td>\n",
       "      <td>0.0</td>\n",
       "      <td>0.0</td>\n",
       "      <td>0.00</td>\n",
       "      <td>0.0</td>\n",
       "      <td>0.0</td>\n",
       "      <td>0.0</td>\n",
       "    </tr>\n",
       "    <tr>\n",
       "      <th>4</th>\n",
       "      <td>10.56</td>\n",
       "      <td>21.19</td>\n",
       "      <td>20.69</td>\n",
       "      <td>21.29</td>\n",
       "      <td>20.28</td>\n",
       "      <td>16.22</td>\n",
       "      <td>17.15</td>\n",
       "      <td>16.01</td>\n",
       "      <td>21.84</td>\n",
       "      <td>19.74</td>\n",
       "      <td>...</td>\n",
       "      <td>0.0</td>\n",
       "      <td>0.00</td>\n",
       "      <td>0.0</td>\n",
       "      <td>5.20</td>\n",
       "      <td>0.0</td>\n",
       "      <td>0.0</td>\n",
       "      <td>0.00</td>\n",
       "      <td>0.0</td>\n",
       "      <td>0.0</td>\n",
       "      <td>0.0</td>\n",
       "    </tr>\n",
       "  </tbody>\n",
       "</table>\n",
       "<p>5 rows × 52229 columns</p>\n",
       "</div>"
      ],
      "text/plain": [
       "   ALB.Gene_AceView  CD24L4.1.Gene_AceView  RPS11.Gene_RefSeq  \\\n",
       "0              9.29                  18.82              21.17   \n",
       "1              9.25                  20.25              22.44   \n",
       "2              8.99                  20.09              22.09   \n",
       "3              7.32                  19.82              20.52   \n",
       "4             10.56                  21.19              20.69   \n",
       "\n",
       "   RPS18.Gene_AceView  C5orf13.Gene_AceView  CCT2.Gene_AceView  \\\n",
       "0               20.90                 20.02              16.31   \n",
       "1               22.00                 21.05              17.06   \n",
       "2               21.71                 21.65              16.85   \n",
       "3               20.90                 21.58              16.49   \n",
       "4               21.29                 20.28              16.22   \n",
       "\n",
       "   COL1A1.Gene_AceView  DDX1.Gene_AceView  EEF1A1.Gene_AceView  \\\n",
       "0                18.60              15.73                21.71   \n",
       "1                19.39              22.84                22.72   \n",
       "2                23.02              15.79                22.24   \n",
       "3                18.91              15.45                22.06   \n",
       "4                17.15              16.01                21.84   \n",
       "\n",
       "   FLT3LG_.Gene_AceView  ...  zawskaw.Gene_AceView  zeedor.Gene_AceView  \\\n",
       "0                 20.02  ...                   0.0                 0.00   \n",
       "1                 21.26  ...                   0.0                 5.54   \n",
       "2                 20.75  ...                   0.0                 0.00   \n",
       "3                 19.59  ...                   0.0                 0.00   \n",
       "4                 19.74  ...                   0.0                 0.00   \n",
       "\n",
       "   zergor.Gene_AceView  zorsa.Gene_AceView  zoychabu.Gene_AceView  \\\n",
       "0                  0.0                0.00                    0.0   \n",
       "1                  0.0                3.39                    0.0   \n",
       "2                  0.0                3.75                    0.0   \n",
       "3                  0.0                0.00                    0.0   \n",
       "4                  0.0                5.20                    0.0   \n",
       "\n",
       "   zoysteeby.Gene_AceView  zudee.Gene_AceView  zureyby.Gene_AceView  \\\n",
       "0                     0.0                0.00                   0.0   \n",
       "1                     0.0                5.45                   0.0   \n",
       "2                     0.0                0.00                   0.0   \n",
       "3                     0.0                0.00                   0.0   \n",
       "4                     0.0                0.00                   0.0   \n",
       "\n",
       "   zuswoybu.Gene_AceView  zyjee.Gene_AceView  \n",
       "0                    0.0                 0.0  \n",
       "1                    0.0                 0.0  \n",
       "2                    0.0                 0.0  \n",
       "3                    0.0                 0.0  \n",
       "4                    0.0                 0.0  \n",
       "\n",
       "[5 rows x 52229 columns]"
      ]
     },
     "execution_count": 9,
     "metadata": {},
     "output_type": "execute_result"
    }
   ],
   "source": [
    "data_tr.head()"
   ]
  },
  {
   "cell_type": "markdown",
   "metadata": {
    "colab_type": "text",
    "id": "NTZp-z-jk3W4"
   },
   "source": [
    "Read in the files containing label information and check how they look like."
   ]
  },
  {
   "cell_type": "code",
   "execution_count": 10,
   "metadata": {
    "colab": {},
    "colab_type": "code",
    "id": "7Vbq9mqXk3W5",
    "outputId": "6bc4f986-30e2-4953-fc78-80b80982ba47"
   },
   "outputs": [
    {
     "data": {
      "text/html": [
       "<div>\n",
       "<style scoped>\n",
       "    .dataframe tbody tr th:only-of-type {\n",
       "        vertical-align: middle;\n",
       "    }\n",
       "\n",
       "    .dataframe tbody tr th {\n",
       "        vertical-align: top;\n",
       "    }\n",
       "\n",
       "    .dataframe thead th {\n",
       "        text-align: right;\n",
       "    }\n",
       "</style>\n",
       "<table border=\"1\" class=\"dataframe\">\n",
       "  <thead>\n",
       "    <tr style=\"text-align: right;\">\n",
       "      <th></th>\n",
       "      <th>sampleID</th>\n",
       "      <th>CLASS</th>\n",
       "      <th>SEX</th>\n",
       "      <th>UK</th>\n",
       "    </tr>\n",
       "  </thead>\n",
       "  <tbody>\n",
       "    <tr>\n",
       "      <th>0</th>\n",
       "      <td>SEQC_NB001</td>\n",
       "      <td>0</td>\n",
       "      <td>1</td>\n",
       "      <td>1</td>\n",
       "    </tr>\n",
       "    <tr>\n",
       "      <th>1</th>\n",
       "      <td>SEQC_NB003</td>\n",
       "      <td>0</td>\n",
       "      <td>0</td>\n",
       "      <td>0</td>\n",
       "    </tr>\n",
       "    <tr>\n",
       "      <th>2</th>\n",
       "      <td>SEQC_NB005</td>\n",
       "      <td>0</td>\n",
       "      <td>0</td>\n",
       "      <td>1</td>\n",
       "    </tr>\n",
       "    <tr>\n",
       "      <th>3</th>\n",
       "      <td>SEQC_NB011</td>\n",
       "      <td>1</td>\n",
       "      <td>1</td>\n",
       "      <td>1</td>\n",
       "    </tr>\n",
       "    <tr>\n",
       "      <th>4</th>\n",
       "      <td>SEQC_NB013</td>\n",
       "      <td>0</td>\n",
       "      <td>1</td>\n",
       "      <td>1</td>\n",
       "    </tr>\n",
       "  </tbody>\n",
       "</table>\n",
       "</div>"
      ],
      "text/plain": [
       "     sampleID  CLASS  SEX  UK\n",
       "0  SEQC_NB001      0    1   1\n",
       "1  SEQC_NB003      0    0   0\n",
       "2  SEQC_NB005      0    0   1\n",
       "3  SEQC_NB011      1    1   1\n",
       "4  SEQC_NB013      0    1   1"
      ]
     },
     "execution_count": 10,
     "metadata": {},
     "output_type": "execute_result"
    }
   ],
   "source": [
    "labs_tr = pd.read_csv(LABS_TR, sep = \"\\t\")\n",
    "labs_ts = pd.read_csv(LABS_TS, sep = \"\\t\")\n",
    "labs_tr.head()"
   ]
  },
  {
   "cell_type": "markdown",
   "metadata": {
    "colab_type": "text",
    "id": "Bw2huNKIk3W8"
   },
   "source": [
    "We have to fit one model for each label type, so we need to select one column at a time. We start with CLASS, in principle we could consider looping over the columns of interest. In this case no need to remove the first column, since we are using one column at a time."
   ]
  },
  {
   "cell_type": "code",
   "execution_count": 11,
   "metadata": {
    "colab": {},
    "colab_type": "code",
    "id": "pyTfzujJk3W9",
    "outputId": "cd7cf62a-c5b1-491a-853e-631b5cc9a4d2"
   },
   "outputs": [
    {
     "data": {
      "text/html": [
       "<div>\n",
       "<style scoped>\n",
       "    .dataframe tbody tr th:only-of-type {\n",
       "        vertical-align: middle;\n",
       "    }\n",
       "\n",
       "    .dataframe tbody tr th {\n",
       "        vertical-align: top;\n",
       "    }\n",
       "\n",
       "    .dataframe thead th {\n",
       "        text-align: right;\n",
       "    }\n",
       "</style>\n",
       "<table border=\"1\" class=\"dataframe\">\n",
       "  <thead>\n",
       "    <tr style=\"text-align: right;\">\n",
       "      <th></th>\n",
       "      <th>CLASS</th>\n",
       "    </tr>\n",
       "  </thead>\n",
       "  <tbody>\n",
       "    <tr>\n",
       "      <th>0</th>\n",
       "      <td>0</td>\n",
       "    </tr>\n",
       "    <tr>\n",
       "      <th>1</th>\n",
       "      <td>0</td>\n",
       "    </tr>\n",
       "    <tr>\n",
       "      <th>2</th>\n",
       "      <td>0</td>\n",
       "    </tr>\n",
       "    <tr>\n",
       "      <th>3</th>\n",
       "      <td>1</td>\n",
       "    </tr>\n",
       "    <tr>\n",
       "      <th>4</th>\n",
       "      <td>0</td>\n",
       "    </tr>\n",
       "  </tbody>\n",
       "</table>\n",
       "</div>"
      ],
      "text/plain": [
       "   CLASS\n",
       "0      0\n",
       "1      0\n",
       "2      0\n",
       "3      1\n",
       "4      0"
      ]
     },
     "execution_count": 11,
     "metadata": {},
     "output_type": "execute_result"
    }
   ],
   "source": [
    "class_lab_tr = labs_tr[['CLASS']]\n",
    "class_lab_ts = labs_ts[['CLASS']]\n",
    "## give a look at one of the two\n",
    "class_lab_tr.head()"
   ]
  },
  {
   "cell_type": "markdown",
   "metadata": {
    "colab_type": "text",
    "id": "7HSRblhv3RJY"
   },
   "source": [
    "For the remaining part of this hands-on, we need the data and labels to be stored in Numpy arrays (remember the `.values` function?):"
   ]
  },
  {
   "cell_type": "code",
   "execution_count": 12,
   "metadata": {
    "colab": {},
    "colab_type": "code",
    "id": "6RAvCkTE3bns"
   },
   "outputs": [],
   "source": [
    "x_tr = data_tr.values\n",
    "x_ts = data_ts.values\n",
    "\n",
    "y_tr = class_lab_tr.values.ravel()\n",
    "y_ts = class_lab_ts.values.ravel()"
   ]
  },
  {
   "cell_type": "code",
   "execution_count": 13,
   "metadata": {},
   "outputs": [
    {
     "data": {
      "text/plain": [
       "array([0, 0, 0, 1, 0, 1, 1, 1, 1, 1, 1, 1, 1, 1, 1, 1, 1, 1, 1, 1, 1, 1,\n",
       "       1, 1, 1, 1, 0, 1, 1, 1, 1, 1, 1, 1, 1, 0, 1, 1, 1, 1, 0, 1, 1, 1,\n",
       "       1, 0, 1, 1, 1, 1, 1, 1, 1, 1, 0, 1, 1, 1, 0, 0, 1, 1, 1, 1, 1, 1,\n",
       "       1, 1, 1, 1, 1, 1, 1, 0, 0, 0, 0, 0, 0, 0, 0, 1, 1, 1, 1, 1, 0, 0,\n",
       "       1, 1, 1, 1, 0, 1, 1, 1, 0, 0, 0, 1, 0, 0, 0, 0, 0, 0, 1, 1, 0, 1,\n",
       "       0, 1, 1, 1, 0, 0, 0, 0, 0, 0, 0, 0, 0, 1, 1, 0, 0, 1, 1, 1, 1, 0,\n",
       "       1, 1, 1, 1])"
      ]
     },
     "execution_count": 13,
     "metadata": {},
     "output_type": "execute_result"
    }
   ],
   "source": [
    "y_tr"
   ]
  },
  {
   "cell_type": "code",
   "execution_count": 14,
   "metadata": {},
   "outputs": [
    {
     "data": {
      "text/plain": [
       "(136,)"
      ]
     },
     "execution_count": 14,
     "metadata": {},
     "output_type": "execute_result"
    }
   ],
   "source": [
    "y_tr.shape"
   ]
  },
  {
   "cell_type": "markdown",
   "metadata": {
    "colab_type": "text",
    "id": "PoeFheJ9p9wG"
   },
   "source": [
    "\n",
    "\n",
    "---\n",
    "\n",
    "\n",
    "*Naming conventions: in the machine learning world, usually `x` is the data and `y` the target variable (the labels).*\n",
    "\n",
    "---\n",
    "\n"
   ]
  },
  {
   "cell_type": "markdown",
   "metadata": {
    "colab_type": "text",
    "id": "kqmSqRd23lCS"
   },
   "source": [
    "When coding, it is a good practice to have a peek at the resulting variables, to be sure everything is OK: i.e., is that variable like it is supposed to be? Did I accidentally throw away a feature column?\n",
    "\n",
    "This can avoid lots of problems later on!"
   ]
  },
  {
   "cell_type": "code",
   "execution_count": 15,
   "metadata": {
    "colab": {},
    "colab_type": "code",
    "id": "XYs3b6JJ3qrn"
   },
   "outputs": [
    {
     "data": {
      "text/plain": [
       "(136, 52229)"
      ]
     },
     "execution_count": 15,
     "metadata": {},
     "output_type": "execute_result"
    }
   ],
   "source": [
    "x_tr.shape"
   ]
  },
  {
   "cell_type": "markdown",
   "metadata": {
    "colab_type": "text",
    "id": "-VrsQZKO37wt"
   },
   "source": [
    "Let's go back to the sample labels:"
   ]
  },
  {
   "cell_type": "code",
   "execution_count": 16,
   "metadata": {
    "colab": {},
    "colab_type": "code",
    "id": "iwI8uSvC4BbC"
   },
   "outputs": [
    {
     "data": {
      "text/plain": [
       "(136,)"
      ]
     },
     "execution_count": 16,
     "metadata": {},
     "output_type": "execute_result"
    }
   ],
   "source": [
    "y_tr.shape"
   ]
  },
  {
   "cell_type": "markdown",
   "metadata": {
    "colab_type": "text",
    "id": "f99gjxxW3yMs"
   },
   "source": [
    "---\n",
    "\n",
    "### Quick recap\n",
    "\n",
    "- class_lab_tr = 0 indicates **unfavorable** neuroblastoma samples (**bad** outcome)\n",
    "- class_lab_tr = 1 indicates **favorable** neuroblastoma samples (**good** outcome)\n",
    "\n",
    "---"
   ]
  },
  {
   "cell_type": "markdown",
   "metadata": {},
   "source": [
    "# Data preprocessing"
   ]
  },
  {
   "cell_type": "markdown",
   "metadata": {},
   "source": [
    "The downstream analysis can benefit from data preprocessing, i.e., rescaling or standardizing data values."
   ]
  },
  {
   "cell_type": "markdown",
   "metadata": {},
   "source": [
    "In Scikit learn you can use `MinMaxScaler` or `StandardScaler` in the `preprocessing` submodule. Here is an example using the `MinMaxScaler`:"
   ]
  },
  {
   "cell_type": "code",
   "execution_count": 17,
   "metadata": {},
   "outputs": [],
   "source": [
    "from sklearn.preprocessing import MinMaxScaler\n",
    "## first you need to create a \"scaler\" object\n",
    "scaler = MinMaxScaler(feature_range=(-1,1))\n",
    "## then you actually scale data by fitting the scaler object on the data\n",
    "scaler.fit(x_tr)\n",
    "x_tr = scaler.transform(x_tr)\n",
    "x_ts = scaler.transform(x_ts)"
   ]
  },
  {
   "cell_type": "markdown",
   "metadata": {},
   "source": [
    "Note how we transformed the test set: we computed the scaling parameters on the training set and applied them to the test set. In this way, we did not use any information in the test set to standardize it."
   ]
  },
  {
   "cell_type": "markdown",
   "metadata": {
    "colab_type": "text",
    "id": "gDUP1kW8ou4-"
   },
   "source": [
    "# Data exploration"
   ]
  },
  {
   "cell_type": "markdown",
   "metadata": {},
   "source": [
    "Remember the scatterplot matrix we showed on the 4-feature Iris data?\n",
    "\n",
    "_How should we visualize feature relationships on the neuroblastoma dataset with 50K features? Would it be a good idea to compute a scatterplot matrix?_"
   ]
  },
  {
   "cell_type": "markdown",
   "metadata": {
    "colab_type": "text",
    "id": "yrQII8Zm4SQ-"
   },
   "source": [
    "It is probably better to first reduce the dimensionality of our data.\n",
    "\n",
    "Principal Component Analysis (PCA) is one example of data dimesionality reduction technique. It finds a sequence of linear combination of the variables (called the _principal components_) that explain the maximum variance and summarize the most information in the data and are mutually uncorrelated."
   ]
  },
  {
   "cell_type": "markdown",
   "metadata": {
    "colab_type": "text",
    "id": "LrgsMWEHoyzd"
   },
   "source": [
    "Let's perform an **unsupervised learning** task on our data set \"as is\" by decomposing it in its Principal Components.\n",
    "\n",
    "In scikit-learn, we can use the module PCA:"
   ]
  },
  {
   "cell_type": "code",
   "execution_count": 18,
   "metadata": {
    "colab": {},
    "colab_type": "code",
    "id": "pEQSdHYi5F4k"
   },
   "outputs": [],
   "source": [
    "from sklearn.decomposition import PCA\n",
    "pca = PCA(n_components=2)"
   ]
  },
  {
   "cell_type": "markdown",
   "metadata": {
    "colab_type": "text",
    "id": "_P4v7UyA5I_Z"
   },
   "source": [
    "So far we have a PCA _object_ but no transformation yet.\n",
    "\n",
    "To actually transform the data, we'll have to _fit_ the PCA object on the training data, and then _transforming_ them in the Principal Component space:"
   ]
  },
  {
   "cell_type": "code",
   "execution_count": 19,
   "metadata": {},
   "outputs": [],
   "source": [
    "pca.fit(x_tr)\n",
    "z_tr = pca.transform(x_tr)"
   ]
  },
  {
   "cell_type": "code",
   "execution_count": 20,
   "metadata": {},
   "outputs": [
    {
     "data": {
      "text/plain": [
       "(136, 2)"
      ]
     },
     "execution_count": 20,
     "metadata": {},
     "output_type": "execute_result"
    }
   ],
   "source": [
    "z_tr.shape"
   ]
  },
  {
   "cell_type": "code",
   "execution_count": 21,
   "metadata": {},
   "outputs": [
    {
     "data": {
      "text/plain": [
       "(136, 52229)"
      ]
     },
     "execution_count": 21,
     "metadata": {},
     "output_type": "execute_result"
    }
   ],
   "source": [
    "x_tr.shape"
   ]
  },
  {
   "cell_type": "markdown",
   "metadata": {
    "colab_type": "text",
    "id": "GSURQjcg6ERt"
   },
   "source": [
    "Let's have a look at the _variance ratio_, i.e. the percentage of the variance explained by each component:"
   ]
  },
  {
   "cell_type": "code",
   "execution_count": 22,
   "metadata": {
    "colab": {},
    "colab_type": "code",
    "id": "Cma7FaOd6F1M"
   },
   "outputs": [
    {
     "name": "stdout",
     "output_type": "stream",
     "text": [
      "[0.08194369 0.0433671 ]\n"
     ]
    }
   ],
   "source": [
    "print(pca.explained_variance_ratio_)"
   ]
  },
  {
   "cell_type": "markdown",
   "metadata": {
    "colab_type": "text",
    "id": "gf_TACYP6JXk"
   },
   "source": [
    "_What can you understand from these variance percentages? Could this task be \"predictable\" by some sort of model?_"
   ]
  },
  {
   "cell_type": "markdown",
   "metadata": {
    "colab_type": "text",
    "id": "4oM7HM9d6UL6"
   },
   "source": [
    "Is it always convenient to visualize the first two principal components in a scatterplot, in order to get a first assessment of the goodness of the decomposition.\n",
    "\n",
    "We will color the points in the plot according to our sample labels."
   ]
  },
  {
   "cell_type": "code",
   "execution_count": 23,
   "metadata": {
    "colab": {},
    "colab_type": "code",
    "id": "o8Ktj-fK6WWo"
   },
   "outputs": [
    {
     "data": {
      "image/png": "[encoded data removed]",
      "text/plain": [
       "<Figure size 432x288 with 1 Axes>"
      ]
     },
     "metadata": {
      "needs_background": "light"
     },
     "output_type": "display_data"
    }
   ],
   "source": [
    "f = plt.figure()\n",
    "plt.scatter(z_tr[y_tr == 0, 0], z_tr[y_tr == 0, 1], color=\"r\")\n",
    "plt.scatter(z_tr[y_tr == 1, 0], z_tr[y_tr == 1, 1], color=\"b\")\n",
    "plt.title(\"PCA of Train data\")\n",
    "plt.xlabel(\"PC1\")\n",
    "plt.ylabel(\"PC2\")\n",
    "plt.show()\n",
    "f.savefig(\"PCA_train.pdf\")"
   ]
  },
  {
   "cell_type": "markdown",
   "metadata": {
    "colab_type": "text",
    "id": "1GHx_kFZ6k5T"
   },
   "source": [
    "_Now apply the transformation to the test data, plot it, and save it as PDF._"
   ]
  },
  {
   "cell_type": "code",
   "execution_count": 24,
   "metadata": {},
   "outputs": [],
   "source": [
    "# method 1: PCA on the test set\n",
    "pca.fit(x_ts)\n",
    "z_ts = pca.transform(x_ts)\n",
    "\n",
    "# method 2: PCA on the train, use it to transform the test set\n",
    "pca.fit(x_tr)\n",
    "z_ts = pca.transform(x_ts)\n",
    "\n",
    "## plot here\n",
    "## ..."
   ]
  },
  {
   "cell_type": "markdown",
   "metadata": {},
   "source": [
    "We now perform a UMAP transformation of the data, recalling what we did on the Iris dataset. Notice how we now split the `fit` and the `transform` operations:"
   ]
  },
  {
   "cell_type": "code",
   "execution_count": 25,
   "metadata": {},
   "outputs": [
    {
     "data": {
      "text/plain": [
       "(136, 2)"
      ]
     },
     "execution_count": 25,
     "metadata": {},
     "output_type": "execute_result"
    }
   ],
   "source": [
    "import umap\n",
    "reducer = umap.UMAP(random_state=11)\n",
    "reducer.fit(x_tr)\n",
    "embedding = reducer.transform(x_tr)\n",
    "embedding.shape"
   ]
  },
  {
   "cell_type": "code",
   "execution_count": 26,
   "metadata": {},
   "outputs": [
    {
     "data": {
      "text/html": [
       "<div>\n",
       "<style scoped>\n",
       "    .dataframe tbody tr th:only-of-type {\n",
       "        vertical-align: middle;\n",
       "    }\n",
       "\n",
       "    .dataframe tbody tr th {\n",
       "        vertical-align: top;\n",
       "    }\n",
       "\n",
       "    .dataframe thead th {\n",
       "        text-align: right;\n",
       "    }\n",
       "</style>\n",
       "<table border=\"1\" class=\"dataframe\">\n",
       "  <thead>\n",
       "    <tr style=\"text-align: right;\">\n",
       "      <th></th>\n",
       "      <th>UMAP1</th>\n",
       "      <th>UMAP2</th>\n",
       "      <th>class</th>\n",
       "    </tr>\n",
       "  </thead>\n",
       "  <tbody>\n",
       "    <tr>\n",
       "      <th>0</th>\n",
       "      <td>16.746107</td>\n",
       "      <td>4.764832</td>\n",
       "      <td>0</td>\n",
       "    </tr>\n",
       "    <tr>\n",
       "      <th>1</th>\n",
       "      <td>13.172440</td>\n",
       "      <td>2.995640</td>\n",
       "      <td>0</td>\n",
       "    </tr>\n",
       "    <tr>\n",
       "      <th>2</th>\n",
       "      <td>13.579881</td>\n",
       "      <td>3.305157</td>\n",
       "      <td>0</td>\n",
       "    </tr>\n",
       "    <tr>\n",
       "      <th>3</th>\n",
       "      <td>18.095095</td>\n",
       "      <td>5.297912</td>\n",
       "      <td>1</td>\n",
       "    </tr>\n",
       "    <tr>\n",
       "      <th>4</th>\n",
       "      <td>19.109133</td>\n",
       "      <td>4.365498</td>\n",
       "      <td>0</td>\n",
       "    </tr>\n",
       "  </tbody>\n",
       "</table>\n",
       "</div>"
      ],
      "text/plain": [
       "       UMAP1     UMAP2  class\n",
       "0  16.746107  4.764832      0\n",
       "1  13.172440  2.995640      0\n",
       "2  13.579881  3.305157      0\n",
       "3  18.095095  5.297912      1\n",
       "4  19.109133  4.365498      0"
      ]
     },
     "execution_count": 26,
     "metadata": {},
     "output_type": "execute_result"
    }
   ],
   "source": [
    "df_2D = pd.DataFrame(embedding,\n",
    "                     columns=['UMAP1', 'UMAP2'])\n",
    "df_2D['class'] = y_tr\n",
    "df_2D.head()"
   ]
  },
  {
   "cell_type": "code",
   "execution_count": 27,
   "metadata": {},
   "outputs": [
    {
     "data": {
      "text/plain": [
       "<matplotlib.legend.Legend at 0x112341390>"
      ]
     },
     "execution_count": 27,
     "metadata": {},
     "output_type": "execute_result"
    },
    {
     "data": {
      "image/png": "[encoded data removed]",
      "text/plain": [
       "<Figure size 432x288 with 1 Axes>"
      ]
     },
     "metadata": {
      "needs_background": "light"
     },
     "output_type": "display_data"
    }
   ],
   "source": [
    "for key, group in df_2D.groupby(['class']):\n",
    "    plt.plot(group.UMAP1, group.UMAP2, 'o', alpha=0.7, label=key)\n",
    "    \n",
    "plt.legend(loc=0, fontsize=12)"
   ]
  },
  {
   "cell_type": "markdown",
   "metadata": {},
   "source": [
    "Once we have a UMAP object projecting the training set into a low-dimensional space, we can embed new data (i.e., the test set) on the existing embedding. \n",
    "\n",
    "We use the `transform` method on the reducer object, and plot the resulting transformation:"
   ]
  },
  {
   "cell_type": "code",
   "execution_count": 28,
   "metadata": {},
   "outputs": [
    {
     "data": {
      "text/plain": [
       "<matplotlib.legend.Legend at 0x11af99f98>"
      ]
     },
     "execution_count": 28,
     "metadata": {},
     "output_type": "execute_result"
    },
    {
     "data": {
      "image/png": "[encoded data removed]",
      "text/plain": [
       "<Figure size 432x288 with 1 Axes>"
      ]
     },
     "metadata": {
      "needs_background": "light"
     },
     "output_type": "display_data"
    }
   ],
   "source": [
    "embedding_ts = reducer.transform(x_ts)\n",
    "df_2D = pd.DataFrame(embedding_ts,\n",
    "                     columns=['UMAP1', 'UMAP2'])\n",
    "df_2D['class'] = y_ts\n",
    "\n",
    "for key, group in df_2D.groupby(['class']):\n",
    "    plt.plot(group.UMAP1, group.UMAP2, 'o', alpha=0.7, label=key)\n",
    "    \n",
    "plt.legend(loc=0, fontsize=12)\n"
   ]
  },
  {
   "cell_type": "markdown",
   "metadata": {
    "colab_type": "text",
    "id": "FErPMN8F6sb9"
   },
   "source": [
    "## Supervised Learning"
   ]
  },
  {
   "cell_type": "markdown",
   "metadata": {
    "colab_type": "text",
    "id": "T7xRxdjO6vTY"
   },
   "source": [
    "### k-NN classifier"
   ]
  },
  {
   "cell_type": "markdown",
   "metadata": {
    "colab_type": "text",
    "id": "LnHfIehl62Js"
   },
   "source": [
    "Based on the PCA we built on our data, we decide to try some supervised learning on them.\n",
    "\n",
    "Scikit-learn provides you access to several models via a very convenient _fit_ and _predict_ interface.\n",
    "\n",
    "For example, let's fit a **k-NN** model on the whole training data and then use it to predict the labels of the test data."
   ]
  },
  {
   "cell_type": "code",
   "execution_count": 29,
   "metadata": {
    "colab": {},
    "colab_type": "code",
    "id": "6P24VUwQk3XG"
   },
   "outputs": [],
   "source": [
    "knn = neighbors.KNeighborsClassifier(n_neighbors=10)"
   ]
  },
  {
   "cell_type": "code",
   "execution_count": 30,
   "metadata": {
    "colab": {},
    "colab_type": "code",
    "id": "Cg8TpDATk3XI",
    "outputId": "e9658389-474c-4bf5-f196-11d4518311b7"
   },
   "outputs": [
    {
     "data": {
      "text/plain": [
       "KNeighborsClassifier(algorithm='auto', leaf_size=30, metric='minkowski',\n",
       "                     metric_params=None, n_jobs=None, n_neighbors=10, p=2,\n",
       "                     weights='uniform')"
      ]
     },
     "execution_count": 30,
     "metadata": {},
     "output_type": "execute_result"
    }
   ],
   "source": [
    "knn.fit(x_tr, y_tr)"
   ]
  },
  {
   "cell_type": "code",
   "execution_count": 31,
   "metadata": {
    "colab": {},
    "colab_type": "code",
    "id": "B5pHIVW2k3XM"
   },
   "outputs": [],
   "source": [
    "y_pred_knn = knn.predict(x_ts) # predict labels on test data"
   ]
  },
  {
   "cell_type": "markdown",
   "metadata": {
    "colab_type": "text",
    "id": "Crr_2DwX7f1Z"
   },
   "source": [
    "_In general, a classifier has **parameters** that need to be tuned. Default choices are not good in all situations._\n",
    "\n",
    "_For example, in k-NN the main parameter is the **number of neighbors** used in the nearest neighbors algorithm._\n",
    "\n",
    "_More on this later!_"
   ]
  },
  {
   "cell_type": "markdown",
   "metadata": {
    "colab_type": "text",
    "id": "aBsDZNnXk3XP"
   },
   "source": [
    "To evaluate the predictions we need some kind of metrics. "
   ]
  },
  {
   "cell_type": "markdown",
   "metadata": {
    "colab_type": "text",
    "id": "L88ilJJG-Cnf"
   },
   "source": [
    "### Recap: confusion matrix\n",
    "\n",
    "In this example, the first row is class 0, so the confusion matrix will look like:\n",
    "\n",
    "|      |  |  Predicted  |    |\n",
    "|------|-----------|----|----|\n",
    "|      |           | 0 | 1  |\n",
    "| True | 0        | TN | FP |\n",
    "|      | 1         | FN | TP |\n"
   ]
  },
  {
   "cell_type": "code",
   "execution_count": 32,
   "metadata": {
    "colab": {},
    "colab_type": "code",
    "id": "JISD2EVQ9Q9Z"
   },
   "outputs": [
    {
     "data": {
      "text/plain": [
       "array([[27, 19],\n",
       "       [ 0, 90]])"
      ]
     },
     "execution_count": 32,
     "metadata": {},
     "output_type": "execute_result"
    }
   ],
   "source": [
    "from sklearn.metrics import confusion_matrix\n",
    "conf = confusion_matrix(y_ts, y_pred_knn)\n",
    "conf"
   ]
  },
  {
   "cell_type": "markdown",
   "metadata": {
    "colab_type": "text",
    "id": "Kh9MqHB5cC43"
   },
   "source": [
    "The total number of class 0 test samples (AN = All Negatives) should be equal to the sum of the first row of the confusion matrix, i.e., TN + FP:"
   ]
  },
  {
   "cell_type": "code",
   "execution_count": 33,
   "metadata": {
    "colab": {},
    "colab_type": "code",
    "id": "pZVN8GKKdOhy"
   },
   "outputs": [
    {
     "data": {
      "text/plain": [
       "46"
      ]
     },
     "execution_count": 33,
     "metadata": {},
     "output_type": "execute_result"
    }
   ],
   "source": [
    "np.sum(y_ts==0) # total number of \"class 0\" samples in the test set"
   ]
  },
  {
   "cell_type": "markdown",
   "metadata": {
    "colab_type": "text",
    "id": "SoBqoaTGcDVy"
   },
   "source": [
    "Similarly for class 1, i.e., AP = All Positives = TP + FN:"
   ]
  },
  {
   "cell_type": "code",
   "execution_count": 34,
   "metadata": {
    "colab": {},
    "colab_type": "code",
    "id": "1PVj7JbxdVk0"
   },
   "outputs": [
    {
     "data": {
      "text/plain": [
       "90"
      ]
     },
     "execution_count": 34,
     "metadata": {},
     "output_type": "execute_result"
    }
   ],
   "source": [
    "np.sum(y_ts==1) # total number of \"class 1\" samples in the test set"
   ]
  },
  {
   "cell_type": "markdown",
   "metadata": {
    "colab_type": "text",
    "id": "kva3wkz5ddap"
   },
   "source": [
    "Compute the Accuracy, remembering/using the formula: \n",
    "\n",
    "ACC = (TN + TP) / (TN + TP + FN + FP)"
   ]
  },
  {
   "cell_type": "code",
   "execution_count": 35,
   "metadata": {
    "colab": {},
    "colab_type": "code",
    "id": "q0emRGAvfWi4"
   },
   "outputs": [
    {
     "name": "stdout",
     "output_type": "stream",
     "text": [
      "0.8602941176470589\n"
     ]
    }
   ],
   "source": [
    "tp = conf[1,1]\n",
    "tn = conf[0,0]\n",
    "fp = conf[0,1]\n",
    "fn = conf[1,0]\n",
    "\n",
    "acc = (tn + tp) / (tn + tp + fn + fp)\n",
    "print(acc)"
   ]
  },
  {
   "cell_type": "markdown",
   "metadata": {
    "colab_type": "text",
    "id": "iqD0_lXneEJM"
   },
   "source": [
    "Now compute the Sensitivity.\n",
    "\n",
    "Remember the formula:\n",
    "\n",
    "SENS = TP / (TP + FN)"
   ]
  },
  {
   "cell_type": "code",
   "execution_count": 36,
   "metadata": {
    "colab": {},
    "colab_type": "code",
    "id": "a9JlR-LNe5ZI"
   },
   "outputs": [
    {
     "data": {
      "text/plain": [
       "1.0"
      ]
     },
     "execution_count": 36,
     "metadata": {},
     "output_type": "execute_result"
    }
   ],
   "source": [
    "tp / (tp + fn)"
   ]
  },
  {
   "cell_type": "markdown",
   "metadata": {
    "colab_type": "text",
    "id": "jcKt3dqwes-k"
   },
   "source": [
    "Computing metrics by hand is good, but what about a quicker option?"
   ]
  },
  {
   "cell_type": "markdown",
   "metadata": {
    "colab_type": "text",
    "id": "opG9Fe6EkI_b"
   },
   "source": [
    "As seen in the lectures, Scikit Learn offers a handy broad range of functions to evaluate your classifier through its submodule `metrics`.\n",
    "\n",
    "Let's compute the accuracy using the scikit-learn built-in function `accuracy_score`, taking as input the predicted labels (`y_pred_knn`) and the true labels (`y_ts`):\n",
    "\n",
    "`accuracy_score(y_ts, y_pred_knn)`"
   ]
  },
  {
   "cell_type": "code",
   "execution_count": 37,
   "metadata": {
    "colab": {},
    "colab_type": "code",
    "id": "3KeLJcCbkSo6"
   },
   "outputs": [
    {
     "data": {
      "text/plain": [
       "0.8602941176470589"
      ]
     },
     "execution_count": 37,
     "metadata": {},
     "output_type": "execute_result"
    }
   ],
   "source": [
    "from sklearn import metrics\n",
    "metrics.accuracy_score(y_ts, y_pred_knn)"
   ]
  },
  {
   "cell_type": "markdown",
   "metadata": {
    "colab_type": "text",
    "id": "r7owZk6BmTVX"
   },
   "source": [
    "What about Sensitivity? The built-in function is called `recall_score`, as Recall is an alternate name for Sensitivity. Again, its input are the predicted and the true labels.\n"
   ]
  },
  {
   "cell_type": "code",
   "execution_count": 38,
   "metadata": {
    "colab": {},
    "colab_type": "code",
    "id": "MgfhssjZmsg3"
   },
   "outputs": [
    {
     "data": {
      "text/plain": [
       "1.0"
      ]
     },
     "execution_count": 38,
     "metadata": {},
     "output_type": "execute_result"
    }
   ],
   "source": [
    "metrics.recall_score(y_ts, y_pred_knn)"
   ]
  },
  {
   "cell_type": "markdown",
   "metadata": {
    "colab_type": "text",
    "id": "8ysD26nCnTSg"
   },
   "source": [
    "Scikit-learn also provides a neat `metrics.classification_report` function that outputs a few metrics stratified by class:"
   ]
  },
  {
   "cell_type": "code",
   "execution_count": 39,
   "metadata": {
    "colab": {},
    "colab_type": "code",
    "id": "HXgvIJM2k3XQ",
    "outputId": "0d2d0773-a292-40cb-d8e7-df6b6ee29ff2"
   },
   "outputs": [
    {
     "name": "stdout",
     "output_type": "stream",
     "text": [
      "              precision    recall  f1-score   support\n",
      "\n",
      "           0       1.00      0.59      0.74        46\n",
      "           1       0.83      1.00      0.90        90\n",
      "\n",
      "    accuracy                           0.86       136\n",
      "   macro avg       0.91      0.79      0.82       136\n",
      "weighted avg       0.88      0.86      0.85       136\n",
      "\n"
     ]
    }
   ],
   "source": [
    "print(metrics.classification_report(y_ts, y_pred_knn))"
   ]
  },
  {
   "cell_type": "markdown",
   "metadata": {
    "colab_type": "text",
    "id": "mqAX0k6UoeZh"
   },
   "source": [
    "Let's consider the Matthews Correlation Coefficient (MCC):"
   ]
  },
  {
   "cell_type": "markdown",
   "metadata": {
    "colab_type": "text",
    "id": "Dl82PZ0Zn5lN"
   },
   "source": [
    "![MCC formula](https://www.researchgate.net/profile/Pablo_Moscato/publication/223966631/figure/fig1/AS:305103086080001@1449753652505/Calculation-of-Matthews-Correlation-Coefficient-MCC-A-Contingency-matrix_W640.jpg)"
   ]
  },
  {
   "cell_type": "markdown",
   "metadata": {
    "colab_type": "text",
    "id": "4v0aWAAJrex-"
   },
   "source": [
    "*Q: Do you remember the main features of MCC?*"
   ]
  },
  {
   "cell_type": "markdown",
   "metadata": {
    "colab_type": "text",
    "id": "FDN2f1ZAoty0"
   },
   "source": [
    "In scikit-learn it is computed by the `metrics.matthews_corrcoef` function."
   ]
  },
  {
   "cell_type": "markdown",
   "metadata": {
    "colab_type": "text",
    "id": "ynxyEsfFk3XV"
   },
   "source": [
    "If we get the MCC for our kNN predictions, we can observe that it is in line with our *a priori* knowledge of the dataset (from the article):"
   ]
  },
  {
   "cell_type": "code",
   "execution_count": 40,
   "metadata": {
    "colab": {},
    "colab_type": "code",
    "id": "OuoRfictk3XW",
    "outputId": "9119acba-9d18-4076-eb3c-8346ba420579"
   },
   "outputs": [
    {
     "name": "stdout",
     "output_type": "stream",
     "text": [
      "0.6961630553262051\n"
     ]
    }
   ],
   "source": [
    "print(metrics.matthews_corrcoef(y_ts, y_pred_knn))"
   ]
  },
  {
   "cell_type": "markdown",
   "metadata": {
    "colab_type": "text",
    "id": "HtPbufFSpSxL"
   },
   "source": [
    "*Compare the metrics that you computed so far. What can you say about this classification task? Does the classifier learn something?*"
   ]
  },
  {
   "cell_type": "markdown",
   "metadata": {
    "colab_type": "text",
    "id": "-d0e4tAbs7tP"
   },
   "source": [
    "The metrics may look good (e.g., accuracy around 0.8, MCC above 0.6) but...\n",
    "\n",
    "... how do you know if this model performs similarly well on unseen data?\n",
    "\n",
    "In other words, does this model *generalize* beyond its training set?\n",
    "\n",
    "This is why *data partitioning* techniques are used."
   ]
  },
  {
   "cell_type": "markdown",
   "metadata": {
    "colab_type": "text",
    "id": "13LEke6Js720"
   },
   "source": [
    "## Data partitioning"
   ]
  },
  {
   "cell_type": "markdown",
   "metadata": {
    "colab_type": "text",
    "id": "-IIhs_0Exo1B"
   },
   "source": [
    "### Hold-out strategy\n",
    "\n",
    "The idea behind data partitioning is to split your original data set into a **train** portion (for developing your machine learning model) and a **test** portion (for evaluating the performance of the trained model).\n",
    "\n",
    "The simplest and most straightforward way to partition your data set is to randomly split it in two groups (*hold-out strategy*).\n",
    "\n",
    "\n",
    "---\n",
    "\n",
    "\n",
    "\"But we already have a dataset split into train and test!\", you may object.\n",
    "\n",
    "Well, the data was previously split into balanced train and test sets of 136 samples each. This is somewhat different from the 80/20 train/test split we mentioned in the lecture. In fact, this specific data split was created ad-hoc during the article preparation to ensure balance in the various clinical characteristics of the neuroblastoma samples represented (e.g. MYCN amplification status, INSS tumor staging, … Full details are reported in the article).\n",
    "\n",
    "For the sake of this tutorial, we will further split the neuroblastoma train set into two subsets.\n",
    "\n",
    "\n",
    "---\n",
    "\n",
    "\n",
    "You achieve this using scikit-learn's function `train_test_split`, in the `model_selection` submodule.\n",
    "\n",
    "For example, let's split the data (x_tr) into 80% train and 20% test (note the argument `test_size=0.2`)"
   ]
  },
  {
   "cell_type": "code",
   "execution_count": 41,
   "metadata": {
    "colab": {},
    "colab_type": "code",
    "id": "tqbLHGVP2cAH"
   },
   "outputs": [],
   "source": [
    "from sklearn.model_selection import train_test_split\n",
    "X_train, X_test, y_train, y_test = train_test_split(x_tr, y_tr, test_size=0.2, random_state=1)"
   ]
  },
  {
   "cell_type": "markdown",
   "metadata": {
    "colab_type": "text",
    "id": "TOKwQzhK8tVY"
   },
   "source": [
    "\n",
    "\n",
    "---\n",
    "\n",
    "What is the random_state?\n",
    "\n",
    "Whenever randomness is involved in a computer program, we need to rely on some sort of workaround because computers follow their instructions blindly and they are therefore completely predictable.\n",
    "\n",
    "One approach relies on *Pseudo-Random Number Generators* (PRNGs). \n",
    "\n",
    "PNRGs are algorithms that use mathematical formulas or precalculated tables to produce sequences of numbers that appear random. \n",
    "\n",
    "PNRGs are initialized by a *seed* (an integer), so that *the same seed yields the same sequence of pseudo-random numbers*. This is useful for reproduciblity.\n",
    "\n",
    "\n",
    "---\n",
    "\n"
   ]
  },
  {
   "cell_type": "markdown",
   "metadata": {
    "colab_type": "text",
    "id": "le9GlyN3xo9x"
   },
   "source": [
    "*Now, retrain a kNN model on X_train and evaluate its performance on X_test. Try using different random states for data splitting.*"
   ]
  },
  {
   "cell_type": "code",
   "execution_count": 42,
   "metadata": {
    "colab": {},
    "colab_type": "code",
    "id": "n12boA3k3Neo"
   },
   "outputs": [
    {
     "name": "stdout",
     "output_type": "stream",
     "text": [
      "Accuracy =  0.75\n",
      "MCC =  0.5383819020581655\n"
     ]
    }
   ],
   "source": [
    "from sklearn import metrics\n",
    "knn = neighbors.KNeighborsClassifier(n_neighbors=10)\n",
    "knn.fit(X_train, y_train)\n",
    "y_pred_knn = knn.predict(X_test)\n",
    "\n",
    "acc = metrics.accuracy_score(y_test, y_pred_knn)\n",
    "mcc = metrics.matthews_corrcoef(y_test, y_pred_knn)\n",
    "\n",
    "print(\"Accuracy = \" , acc)\n",
    "print(\"MCC = \", mcc)"
   ]
  },
  {
   "cell_type": "markdown",
   "metadata": {},
   "source": [
    "## More ideas\n",
    "\n",
    "* Use the other labels (\"SEX\", \"UK\") to train a classifier\n",
    "* Fit on the \"tr\" set and predict on \"ts\"\n",
    "* Use the hold-out strategy\n",
    "* Evaluate the performance for each type of label"
   ]
  },
  {
   "cell_type": "markdown",
   "metadata": {},
   "source": [
    "## What next?\n",
    "\n",
    "* Cross-validation\n",
    "* Other classifiers: Support vector machines, Random Forests, Neural nets\n",
    "* Feature ranking\n",
    "* Parameter tuning"
   ]
  }
 ],
 "metadata": {
  "colab": {
   "collapsed_sections": [],
   "name": "practical_neuroblastoma_partI_v0.2.ipynb",
   "provenance": [],
   "version": "0.3.2"
  },
  "kernelspec": {
   "display_name": "Python 3",
   "language": "python",
   "name": "python3"
  },
  "language_info": {
   "codemirror_mode": {
    "name": "ipython",
    "version": 3
   },
   "file_extension": ".py",
   "mimetype": "text/x-python",
   "name": "python",
   "nbconvert_exporter": "python",
   "pygments_lexer": "ipython3",
   "version": "3.6.7"
  }
 },
 "nbformat": 4,
 "nbformat_minor": 1
}
